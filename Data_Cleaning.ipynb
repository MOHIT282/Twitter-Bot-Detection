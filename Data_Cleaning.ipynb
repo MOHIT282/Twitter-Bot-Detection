{
 "cells": [
  {
   "cell_type": "code",
   "execution_count": 60,
   "metadata": {},
   "outputs": [],
   "source": [
    "import pandas as pd\n",
    "import numpy as np\n",
    "import warnings\n",
    "warnings.filterwarnings('ignore')"
   ]
  },
  {
   "cell_type": "code",
   "execution_count": 61,
   "metadata": {},
   "outputs": [],
   "source": [
    "# datasets = {\n",
    "#     'tim_cook' : 'datasets/csv_files/tim_cook.csv',\n",
    "#     'androidcentral' : 'datasets/csv_files/androidcentral.csv',\n",
    "#     'BarackObama' : 'datasets/csv_files/BarackObama.csv',\n",
    "#     'BBCWORLD' : 'datasets/csv_files/BBCWORLD.csv',\n",
    "#     'AndroidPolice' : 'datasets/csv_files/AndroidPolice.csv',\n",
    "#     'dtptraffic' : 'datasets/csv_files/dtptraffic.csv',\n",
    "#     'elonmusk' : 'datasets/csv_files/elonmusk.csv',\n",
    "#     'exceleducations' : 'datasets/csv_files/exceleducations.csv',\n",
    "#     'imVkohli' : 'datasets/csv_files/imVkohli.csv',\n",
    "#     'IRCTCofficial' : 'datasets/csv_files/IRCTCofficial.csv',\n",
    "#     'ishowspeedsui' : 'datasets/csv_files/ishowspeedsui.csv',\n",
    "#     'MrBeast' : 'datasets/csv_files/MrBeast.csv',\n",
    "#     'RVCJ_FB' : 'datasets/csv_files/RVCJ_FB.csv',\n",
    "#     'sanasaeed17' : 'datasets/csv_files/sanasaeed17.csv',\n",
    "#     'SAS' : 'datasets/csv_files/SAS.csv',\n",
    "#     'Sidemen' : 'datasets/csv_files/Sidemen.csv',\n",
    "#     'sundarpichai' : 'datasets/csv_files/sundarpichai.csv',\n",
    "#     'theapplehub' : 'datasets/csv_files/theapplehub.csv',\n",
    "#     'timesofindia' : 'datasets/csv_files/timesofindia.csv',\n",
    "#     'TrollFootball' : 'datasets/csv_files/TrollFootball.csv',\n",
    "#     'verge' : 'datasets/csv_files/verge.csv',\n",
    "#     'YouTube' : 'datasets/csv_files/YouTube.csv'\n",
    "# }\n",
    "datasets = {\n",
    "    'BBCWORLD' : 'datasets/csv_files/BBCWORLD.csv'\n",
    "}"
   ]
  },
  {
   "cell_type": "code",
   "execution_count": 62,
   "metadata": {},
   "outputs": [],
   "source": [
    "def cleaning_and_saving(UserId, location):\n",
    "    \n",
    "    # reading the dataframe from csv files\n",
    "    df = pd.read_csv(location)\n",
    "    \n",
    "    # selecting necessaries columns only i.e. feature selection\n",
    "    df = df[['UserId','Tweets','Likes','Comments','Retweets','Tweet_Url']]\n",
    "    \n",
    "    # filtering the user's tweets only\n",
    "    df = df[df.UserId == f'@{UserId}']\n",
    "    \n",
    "    # removing null values from the datasets\n",
    "    # df = df.dropna() \n",
    "    \n",
    "    df = df.reset_index(drop=True)\n",
    "    # converting the columns datatype into string datatype\n",
    "    df.Tweets = df.Tweets.astype('str')\n",
    "    df.Likes = df.Likes.astype('str')\n",
    "    df.Retweets = df.Retweets.astype('str')\n",
    "    df.Tweet_Url = df.Tweet_Url.astype('str')\n",
    "    \n",
    "    \n",
    "    df.to_csv(path_or_buf= f'datasets/cleaned_data/{UserId}.csv',mode='w', index=False )\n",
    "    "
   ]
  },
  {
   "cell_type": "code",
   "execution_count": 63,
   "metadata": {},
   "outputs": [],
   "source": [
    "for UserId, location in datasets.items():\n",
    "    cleaning_and_saving(UserId, location)"
   ]
  },
  {
   "cell_type": "code",
   "execution_count": 77,
   "metadata": {},
   "outputs": [
    {
     "data": {
      "text/plain": [
       "UserId       0\n",
       "Tweets       0\n",
       "Likes        0\n",
       "Comments     0\n",
       "Retweets     0\n",
       "Tweet_Url    0\n",
       "dtype: int64"
      ]
     },
     "execution_count": 77,
     "metadata": {},
     "output_type": "execute_result"
    }
   ],
   "source": [
    "df = pd.read_csv('datasets/csv_files/BBCWORLD.csv')\n",
    "df = df[['UserId','Tweets','Likes','Comments','Retweets','Tweet_Url']]\n",
    "df.isna().sum()"
   ]
  },
  {
   "cell_type": "code",
   "execution_count": 78,
   "metadata": {},
   "outputs": [
    {
     "data": {
      "text/html": [
       "<div>\n",
       "<style scoped>\n",
       "    .dataframe tbody tr th:only-of-type {\n",
       "        vertical-align: middle;\n",
       "    }\n",
       "\n",
       "    .dataframe tbody tr th {\n",
       "        vertical-align: top;\n",
       "    }\n",
       "\n",
       "    .dataframe thead th {\n",
       "        text-align: right;\n",
       "    }\n",
       "</style>\n",
       "<table border=\"1\" class=\"dataframe\">\n",
       "  <thead>\n",
       "    <tr style=\"text-align: right;\">\n",
       "      <th></th>\n",
       "      <th>UserId</th>\n",
       "      <th>Tweets</th>\n",
       "      <th>Likes</th>\n",
       "      <th>Comments</th>\n",
       "      <th>Retweets</th>\n",
       "      <th>Tweet_Url</th>\n",
       "    </tr>\n",
       "  </thead>\n",
       "  <tbody>\n",
       "    <tr>\n",
       "      <th>0</th>\n",
       "      <td>@BBCWorld</td>\n",
       "      <td>Delhi air pollution: Schools shut as air quali...</td>\n",
       "      <td>73</td>\n",
       "      <td>44</td>\n",
       "      <td>32</td>\n",
       "      <td>https://twitter.com/BBCWorld/status/1720281545...</td>\n",
       "    </tr>\n",
       "    <tr>\n",
       "      <th>1</th>\n",
       "      <td>@BBCWorld</td>\n",
       "      <td>Hezbollah chief Nasrallah to break silence on ...</td>\n",
       "      <td>119</td>\n",
       "      <td>73</td>\n",
       "      <td>29</td>\n",
       "      <td>https://twitter.com/BBCWorld/status/1720275379...</td>\n",
       "    </tr>\n",
       "    <tr>\n",
       "      <th>2</th>\n",
       "      <td>@BBCWorld</td>\n",
       "      <td>Trump's sons a study in contrasts on witness s...</td>\n",
       "      <td>102</td>\n",
       "      <td>68</td>\n",
       "      <td>15</td>\n",
       "      <td>https://twitter.com/BBCWorld/status/1720271601...</td>\n",
       "    </tr>\n",
       "    <tr>\n",
       "      <th>3</th>\n",
       "      <td>@BBCWorld</td>\n",
       "      <td>Apple sales dip again despite iPhone boost</td>\n",
       "      <td>94</td>\n",
       "      <td>53</td>\n",
       "      <td>22</td>\n",
       "      <td>https://twitter.com/BBCWorld/status/1720267815...</td>\n",
       "    </tr>\n",
       "    <tr>\n",
       "      <th>4</th>\n",
       "      <td>@BBCWorld</td>\n",
       "      <td>'Crypto King' Sam Bankman-Fried guilty of FTX ...</td>\n",
       "      <td>207</td>\n",
       "      <td>59</td>\n",
       "      <td>49</td>\n",
       "      <td>https://twitter.com/BBCWorld/status/1720262874...</td>\n",
       "    </tr>\n",
       "  </tbody>\n",
       "</table>\n",
       "</div>"
      ],
      "text/plain": [
       "      UserId                                             Tweets Likes  \\\n",
       "0  @BBCWorld  Delhi air pollution: Schools shut as air quali...    73   \n",
       "1  @BBCWorld  Hezbollah chief Nasrallah to break silence on ...   119   \n",
       "2  @BBCWorld  Trump's sons a study in contrasts on witness s...   102   \n",
       "3  @BBCWorld         Apple sales dip again despite iPhone boost    94   \n",
       "4  @BBCWorld  'Crypto King' Sam Bankman-Fried guilty of FTX ...   207   \n",
       "\n",
       "  Comments Retweets                                          Tweet_Url  \n",
       "0       44       32  https://twitter.com/BBCWorld/status/1720281545...  \n",
       "1       73       29  https://twitter.com/BBCWorld/status/1720275379...  \n",
       "2       68       15  https://twitter.com/BBCWorld/status/1720271601...  \n",
       "3       53       22  https://twitter.com/BBCWorld/status/1720267815...  \n",
       "4       59       49  https://twitter.com/BBCWorld/status/1720262874...  "
      ]
     },
     "execution_count": 78,
     "metadata": {},
     "output_type": "execute_result"
    }
   ],
   "source": [
    "df.dropna(inplace=True)\n",
    "df.reset_index(drop=True)\n",
    "df.head()"
   ]
  },
  {
   "cell_type": "code",
   "execution_count": 79,
   "metadata": {},
   "outputs": [],
   "source": [
    "df.Tweets = df.Tweets.astype('str')\n",
    "df.Likes = df.Likes.astype('str')\n",
    "df.Retweets = df.Retweets.astype('str')\n",
    "df.Tweet_Url = df.Tweet_Url.astype('str')"
   ]
  },
  {
   "cell_type": "code",
   "execution_count": 82,
   "metadata": {},
   "outputs": [
    {
     "data": {
      "text/plain": [
       "(587, 6)"
      ]
     },
     "execution_count": 82,
     "metadata": {},
     "output_type": "execute_result"
    }
   ],
   "source": [
    "df.shape"
   ]
  },
  {
   "cell_type": "code",
   "execution_count": 65,
   "metadata": {},
   "outputs": [],
   "source": [
    "# df.UserId.unique()"
   ]
  },
  {
   "cell_type": "code",
   "execution_count": 66,
   "metadata": {},
   "outputs": [],
   "source": [
    "# df = df.query('UserId == \"@tim_cook\"')"
   ]
  },
  {
   "cell_type": "code",
   "execution_count": 67,
   "metadata": {},
   "outputs": [],
   "source": [
    "# df = df[['UserId','Tweets','Comments','Retweets','Likes','Tweet_Url']]"
   ]
  },
  {
   "cell_type": "code",
   "execution_count": 68,
   "metadata": {},
   "outputs": [],
   "source": [
    "# df.shape"
   ]
  },
  {
   "cell_type": "code",
   "execution_count": 69,
   "metadata": {},
   "outputs": [],
   "source": [
    "# df.dropna(inplace=True)"
   ]
  },
  {
   "cell_type": "code",
   "execution_count": 70,
   "metadata": {},
   "outputs": [],
   "source": [
    "# df.reset_index(inplace=True)"
   ]
  },
  {
   "cell_type": "code",
   "execution_count": 71,
   "metadata": {},
   "outputs": [],
   "source": [
    "# df.Comments = df.Comments.astype('str')"
   ]
  },
  {
   "cell_type": "code",
   "execution_count": 72,
   "metadata": {},
   "outputs": [],
   "source": [
    "# df.Tweets = df.Tweets.astype('str')"
   ]
  },
  {
   "cell_type": "code",
   "execution_count": 73,
   "metadata": {},
   "outputs": [],
   "source": [
    "# df.Likes = df.Likes.astype('str')"
   ]
  },
  {
   "cell_type": "code",
   "execution_count": 74,
   "metadata": {},
   "outputs": [],
   "source": [
    "# df.Retweets = df.Retweets.astype('str')"
   ]
  },
  {
   "cell_type": "code",
   "execution_count": 75,
   "metadata": {},
   "outputs": [],
   "source": [
    "# df.to_csv('datasets/cleaned_data/tim_cook.csv')"
   ]
  }
 ],
 "metadata": {
  "kernelspec": {
   "display_name": "Python 3",
   "language": "python",
   "name": "python3"
  },
  "language_info": {
   "codemirror_mode": {
    "name": "ipython",
    "version": 3
   },
   "file_extension": ".py",
   "mimetype": "text/x-python",
   "name": "python",
   "nbconvert_exporter": "python",
   "pygments_lexer": "ipython3",
   "version": "3.11.6"
  }
 },
 "nbformat": 4,
 "nbformat_minor": 2
}
