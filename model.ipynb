{
 "cells": [
  {
   "cell_type": "code",
   "execution_count": 35,
   "metadata": {},
   "outputs": [],
   "source": [
    "import pandas as pd\n",
    "import numpy as np\n",
    "from sklearn.preprocessing import LabelEncoder\n",
    "import matplotlib.pyplot as plt\n",
    "from sklearn.feature_extraction.text import TfidfVectorizer\n",
    "from scipy.sparse import hstack\n",
    "from sklearn.ensemble import RandomForestClassifier\n",
    "from datetime import datetime\n",
    "from sklearn.model_selection import train_test_split, GridSearchCV\n",
    "from sklearn.naive_bayes import BernoulliNB\n",
    "from sklearn.metrics import accuracy_score, classification_report\n",
    "import pickle"
   ]
  },
  {
   "cell_type": "code",
   "execution_count": 2,
   "metadata": {},
   "outputs": [
    {
     "data": {
      "text/html": [
       "<div>\n",
       "<style scoped>\n",
       "    .dataframe tbody tr th:only-of-type {\n",
       "        vertical-align: middle;\n",
       "    }\n",
       "\n",
       "    .dataframe tbody tr th {\n",
       "        vertical-align: top;\n",
       "    }\n",
       "\n",
       "    .dataframe thead th {\n",
       "        text-align: right;\n",
       "    }\n",
       "</style>\n",
       "<table border=\"1\" class=\"dataframe\">\n",
       "  <thead>\n",
       "    <tr style=\"text-align: right;\">\n",
       "      <th></th>\n",
       "      <th>User ID</th>\n",
       "      <th>Username</th>\n",
       "      <th>Tweet</th>\n",
       "      <th>Retweet Count</th>\n",
       "      <th>Mention Count</th>\n",
       "      <th>Follower Count</th>\n",
       "      <th>Verified</th>\n",
       "      <th>Bot Label</th>\n",
       "      <th>Location</th>\n",
       "      <th>Created At</th>\n",
       "      <th>Hashtags</th>\n",
       "    </tr>\n",
       "  </thead>\n",
       "  <tbody>\n",
       "    <tr>\n",
       "      <th>0</th>\n",
       "      <td>132131</td>\n",
       "      <td>flong</td>\n",
       "      <td>Station activity person against natural majori...</td>\n",
       "      <td>85</td>\n",
       "      <td>1</td>\n",
       "      <td>2353</td>\n",
       "      <td>False</td>\n",
       "      <td>1</td>\n",
       "      <td>Adkinston</td>\n",
       "      <td>11-05-2020 15:29</td>\n",
       "      <td>NaN</td>\n",
       "    </tr>\n",
       "    <tr>\n",
       "      <th>1</th>\n",
       "      <td>289683</td>\n",
       "      <td>hinesstephanie</td>\n",
       "      <td>Authority research natural life material staff...</td>\n",
       "      <td>55</td>\n",
       "      <td>5</td>\n",
       "      <td>9617</td>\n",
       "      <td>True</td>\n",
       "      <td>0</td>\n",
       "      <td>Sanderston</td>\n",
       "      <td>26-11-2022 05:18</td>\n",
       "      <td>both live</td>\n",
       "    </tr>\n",
       "    <tr>\n",
       "      <th>2</th>\n",
       "      <td>779715</td>\n",
       "      <td>roberttran</td>\n",
       "      <td>Manage whose quickly especially foot none to g...</td>\n",
       "      <td>6</td>\n",
       "      <td>2</td>\n",
       "      <td>4363</td>\n",
       "      <td>True</td>\n",
       "      <td>0</td>\n",
       "      <td>Harrisonfurt</td>\n",
       "      <td>08-08-2022 03:16</td>\n",
       "      <td>phone ahead</td>\n",
       "    </tr>\n",
       "    <tr>\n",
       "      <th>3</th>\n",
       "      <td>696168</td>\n",
       "      <td>pmason</td>\n",
       "      <td>Just cover eight opportunity strong policy which.</td>\n",
       "      <td>54</td>\n",
       "      <td>5</td>\n",
       "      <td>2242</td>\n",
       "      <td>True</td>\n",
       "      <td>1</td>\n",
       "      <td>Martinezberg</td>\n",
       "      <td>14-08-2021 22:27</td>\n",
       "      <td>ever quickly new I</td>\n",
       "    </tr>\n",
       "    <tr>\n",
       "      <th>4</th>\n",
       "      <td>704441</td>\n",
       "      <td>noah87</td>\n",
       "      <td>Animal sign six data good or.</td>\n",
       "      <td>26</td>\n",
       "      <td>3</td>\n",
       "      <td>8438</td>\n",
       "      <td>False</td>\n",
       "      <td>1</td>\n",
       "      <td>Camachoville</td>\n",
       "      <td>13-04-2020 21:24</td>\n",
       "      <td>foreign mention</td>\n",
       "    </tr>\n",
       "  </tbody>\n",
       "</table>\n",
       "</div>"
      ],
      "text/plain": [
       "   User ID        Username                                              Tweet  \\\n",
       "0   132131           flong  Station activity person against natural majori...   \n",
       "1   289683  hinesstephanie  Authority research natural life material staff...   \n",
       "2   779715      roberttran  Manage whose quickly especially foot none to g...   \n",
       "3   696168          pmason  Just cover eight opportunity strong policy which.   \n",
       "4   704441          noah87                      Animal sign six data good or.   \n",
       "\n",
       "   Retweet Count  Mention Count  Follower Count  Verified  Bot Label  \\\n",
       "0             85              1            2353     False          1   \n",
       "1             55              5            9617      True          0   \n",
       "2              6              2            4363      True          0   \n",
       "3             54              5            2242      True          1   \n",
       "4             26              3            8438     False          1   \n",
       "\n",
       "       Location        Created At            Hashtags  \n",
       "0     Adkinston  11-05-2020 15:29                 NaN  \n",
       "1    Sanderston  26-11-2022 05:18           both live  \n",
       "2  Harrisonfurt  08-08-2022 03:16         phone ahead  \n",
       "3  Martinezberg  14-08-2021 22:27  ever quickly new I  \n",
       "4  Camachoville  13-04-2020 21:24     foreign mention  "
      ]
     },
     "execution_count": 2,
     "metadata": {},
     "output_type": "execute_result"
    }
   ],
   "source": [
    "df = pd.read_csv('bot_detection_data.csv')\n",
    "df.head()"
   ]
  },
  {
   "cell_type": "code",
   "execution_count": 3,
   "metadata": {},
   "outputs": [
    {
     "name": "stdout",
     "output_type": "stream",
     "text": [
      "<class 'pandas.core.frame.DataFrame'>\n",
      "RangeIndex: 50000 entries, 0 to 49999\n",
      "Data columns (total 11 columns):\n",
      " #   Column          Non-Null Count  Dtype \n",
      "---  ------          --------------  ----- \n",
      " 0   User ID         50000 non-null  int64 \n",
      " 1   Username        50000 non-null  object\n",
      " 2   Tweet           50000 non-null  object\n",
      " 3   Retweet Count   50000 non-null  int64 \n",
      " 4   Mention Count   50000 non-null  int64 \n",
      " 5   Follower Count  50000 non-null  int64 \n",
      " 6   Verified        50000 non-null  bool  \n",
      " 7   Bot Label       50000 non-null  int64 \n",
      " 8   Location        50000 non-null  object\n",
      " 9   Created At      50000 non-null  object\n",
      " 10  Hashtags        41659 non-null  object\n",
      "dtypes: bool(1), int64(5), object(5)\n",
      "memory usage: 3.9+ MB\n"
     ]
    }
   ],
   "source": [
    "df.info()"
   ]
  },
  {
   "cell_type": "code",
   "execution_count": 4,
   "metadata": {},
   "outputs": [
    {
     "data": {
      "text/plain": [
       "User ID              0\n",
       "Username             0\n",
       "Tweet                0\n",
       "Retweet Count        0\n",
       "Mention Count        0\n",
       "Follower Count       0\n",
       "Verified             0\n",
       "Bot Label            0\n",
       "Location             0\n",
       "Created At           0\n",
       "Hashtags          8341\n",
       "dtype: int64"
      ]
     },
     "execution_count": 4,
     "metadata": {},
     "output_type": "execute_result"
    }
   ],
   "source": [
    "df.isna().sum()"
   ]
  },
  {
   "cell_type": "code",
   "execution_count": 5,
   "metadata": {},
   "outputs": [
    {
     "data": {
      "text/plain": [
       "0                             No Hashtag\n",
       "1                              both live\n",
       "2                            phone ahead\n",
       "3                     ever quickly new I\n",
       "4                        foreign mention\n",
       "                      ...               \n",
       "49995    teach quality ten education any\n",
       "49996             add walk among believe\n",
       "49997            onto admit artist first\n",
       "49998                               star\n",
       "49999                               home\n",
       "Name: Hashtags, Length: 50000, dtype: object"
      ]
     },
     "execution_count": 5,
     "metadata": {},
     "output_type": "execute_result"
    }
   ],
   "source": [
    "#adding our own data in missing hastag rows\n",
    "missing_values_mask=df['Hashtags'].isnull()\n",
    "\n",
    "df.loc[missing_values_mask,'Hashtags']='No Hashtag'#add No Hashtag at missing cell\n",
    "df['Hashtags']"
   ]
  },
  {
   "cell_type": "code",
   "execution_count": 6,
   "metadata": {},
   "outputs": [
    {
     "name": "stdout",
     "output_type": "stream",
     "text": [
      "datetime64[ns]\n"
     ]
    }
   ],
   "source": [
    "df['Created At']=pd.to_datetime(df['Created At'], format='%d-%m-%Y %H:%M')\n",
    "print(df['Created At'].dtypes)"
   ]
  },
  {
   "cell_type": "code",
   "execution_count": 7,
   "metadata": {},
   "outputs": [
    {
     "name": "stdout",
     "output_type": "stream",
     "text": [
      "Value counts for Username:\n",
      "Username\n",
      "ksmith             21\n",
      "usmith             16\n",
      "msmith             16\n",
      "vmiller            15\n",
      "ismith             13\n",
      "                   ..\n",
      "jessica57           1\n",
      "ggraham             1\n",
      "john93              1\n",
      "gallowaymichael     1\n",
      "daniel29            1\n",
      "Name: count, Length: 40566, dtype: int64\n",
      "\n",
      "Value counts for Tweet:\n",
      "Tweet\n",
      "Station activity person against natural majority none few size expect six marriage.        1\n",
      "Institution second billion over song either arm.                                           1\n",
      "However plan meeting certain dinner card produce wear whether give hour something.         1\n",
      "Total least today until clear nearly economy book single with successful.                  1\n",
      "Full likely beautiful example partner process top catch control natural lead push help.    1\n",
      "                                                                                          ..\n",
      "News society threat positive someone accept stand pressure life so describe pretty.        1\n",
      "Station son hospital figure various visit.                                                 1\n",
      "Friend day town professional simply anyone this or third join somebody current.            1\n",
      "Real chair class order camera tough candidate key nearly car probably hotel.               1\n",
      "Here morning class various room human true because lot send attention.                     1\n",
      "Name: count, Length: 50000, dtype: int64\n",
      "\n",
      "Value counts for Location:\n",
      "Location\n",
      "South Michael        44\n",
      "Lake Michael         40\n",
      "North Jennifer       38\n",
      "North Michael        38\n",
      "Lake David           37\n",
      "                     ..\n",
      "Lake Sarahchester     1\n",
      "Port Tiffanyberg      1\n",
      "New Jasonbury         1\n",
      "Payneshire            1\n",
      "Deborahfort           1\n",
      "Name: count, Length: 25199, dtype: int64\n",
      "\n",
      "Value counts for Created At:\n",
      "Created At\n",
      "2021-03-11 16:08:00    3\n",
      "2020-01-20 18:15:00    3\n",
      "2022-06-03 00:03:00    3\n",
      "2021-12-12 00:47:00    3\n",
      "2020-03-21 15:18:00    3\n",
      "                      ..\n",
      "2020-06-26 05:55:00    1\n",
      "2022-09-08 20:49:00    1\n",
      "2022-05-01 18:33:00    1\n",
      "2020-09-19 13:35:00    1\n",
      "2022-12-03 06:11:00    1\n",
      "Name: count, Length: 49269, dtype: int64\n",
      "\n"
     ]
    }
   ],
   "source": [
    "# Assuming you have a DataFrame named 'data' with multiple columns\n",
    "\n",
    "# List of columns to drop\n",
    "columns_to_drop = ['User ID', 'Retweet Count', 'Mention Count','Follower Count','Verified','Bot Label','Hashtags']\n",
    "\n",
    "# Drop the specified columns from the DataFrame\n",
    "data_dropped = df.drop(columns=columns_to_drop)\n",
    "\n",
    "# Get value counts for each remaining column\n",
    "column_counts = {}\n",
    "for column in data_dropped.columns:\n",
    "    column_counts[column] = data_dropped[column].value_counts()\n",
    "\n",
    "# Print the value counts for each column\n",
    "for column, counts in column_counts.items():\n",
    "    print(f\"Value counts for {column}:\")\n",
    "    print(counts)\n",
    "    print()"
   ]
  },
  {
   "cell_type": "code",
   "execution_count": 8,
   "metadata": {},
   "outputs": [
    {
     "name": "stdout",
     "output_type": "stream",
     "text": [
      "Hashtags\n",
      "No Hashtag                            8341\n",
      "area                                    21\n",
      "big                                     20\n",
      "treat                                   19\n",
      "ground                                  18\n",
      "                                      ... \n",
      "president conference field process       1\n",
      "market live mouth sit wide               1\n",
      "your five                                1\n",
      "serious not Democrat                     1\n",
      "onto admit artist first                  1\n",
      "Name: count, Length: 34248, dtype: int64\n"
     ]
    }
   ],
   "source": [
    "#identify inconsistent formatting for textual(categorical too) columns\n",
    "\n",
    "print(df['Hashtags'].value_counts())"
   ]
  },
  {
   "cell_type": "code",
   "execution_count": 9,
   "metadata": {},
   "outputs": [],
   "source": [
    "# Filter data based on bot label\n",
    "bot_data = df[df['Bot Label'] == 1]\n",
    "non_bot_data = df[df['Bot Label'] == 0]"
   ]
  },
  {
   "cell_type": "code",
   "execution_count": 10,
   "metadata": {},
   "outputs": [
    {
     "data": {
      "text/plain": [
       "count    25018.000000\n",
       "mean      4991.944280\n",
       "std       2876.289818\n",
       "min          0.000000\n",
       "25%       2497.000000\n",
       "50%       4978.000000\n",
       "75%       7468.000000\n",
       "max      10000.000000\n",
       "Name: Follower Count, dtype: float64"
      ]
     },
     "execution_count": 10,
     "metadata": {},
     "output_type": "execute_result"
    }
   ],
   "source": [
    "bot_followers_stats = bot_data['Follower Count'].describe()\n",
    "bot_followers_stats"
   ]
  },
  {
   "cell_type": "code",
   "execution_count": 11,
   "metadata": {},
   "outputs": [
    {
     "data": {
      "text/plain": [
       "count    24982.000000\n",
       "mean      4985.255664\n",
       "std       2881.251104\n",
       "min          0.000000\n",
       "25%       2480.250000\n",
       "50%       5007.500000\n",
       "75%       7472.000000\n",
       "max      10000.000000\n",
       "Name: Follower Count, dtype: float64"
      ]
     },
     "execution_count": 11,
     "metadata": {},
     "output_type": "execute_result"
    }
   ],
   "source": [
    "non_bot_followers_stats = non_bot_data['Follower Count'].describe()\n",
    "non_bot_followers_stats"
   ]
  },
  {
   "cell_type": "code",
   "execution_count": 12,
   "metadata": {},
   "outputs": [
    {
     "data": {
      "text/plain": [
       "count    25018.000000\n",
       "mean        50.042050\n",
       "std         29.171048\n",
       "min          0.000000\n",
       "25%         25.000000\n",
       "50%         50.000000\n",
       "75%         75.000000\n",
       "max        100.000000\n",
       "Name: Retweet Count, dtype: float64"
      ]
     },
     "execution_count": 12,
     "metadata": {},
     "output_type": "execute_result"
    }
   ],
   "source": [
    "bot_retweet_stats = bot_data['Retweet Count'].describe()\n",
    "bot_retweet_stats"
   ]
  },
  {
   "cell_type": "code",
   "execution_count": 13,
   "metadata": {},
   "outputs": [
    {
     "data": {
      "text/plain": [
       "count    24982.000000\n",
       "mean        49.969098\n",
       "std         29.191822\n",
       "min          0.000000\n",
       "25%         25.000000\n",
       "50%         50.000000\n",
       "75%         75.000000\n",
       "max        100.000000\n",
       "Name: Retweet Count, dtype: float64"
      ]
     },
     "execution_count": 13,
     "metadata": {},
     "output_type": "execute_result"
    }
   ],
   "source": [
    "non_bot_retweet_stats = non_bot_data['Retweet Count'].describe()\n",
    "non_bot_retweet_stats"
   ]
  },
  {
   "cell_type": "code",
   "execution_count": 14,
   "metadata": {},
   "outputs": [
    {
     "data": {
      "text/plain": [
       "count    25018.000000\n",
       "mean         2.501959\n",
       "std          1.704641\n",
       "min          0.000000\n",
       "25%          1.000000\n",
       "50%          3.000000\n",
       "75%          4.000000\n",
       "max          5.000000\n",
       "Name: Mention Count, dtype: float64"
      ]
     },
     "execution_count": 14,
     "metadata": {},
     "output_type": "execute_result"
    }
   ],
   "source": [
    "bot_mention_stats = bot_data['Mention Count'].describe()\n",
    "bot_mention_stats"
   ]
  },
  {
   "cell_type": "code",
   "execution_count": 15,
   "metadata": {},
   "outputs": [
    {
     "data": {
      "text/plain": [
       "count    24982.000000\n",
       "mean         2.525578\n",
       "std          1.712435\n",
       "min          0.000000\n",
       "25%          1.000000\n",
       "50%          3.000000\n",
       "75%          4.000000\n",
       "max          5.000000\n",
       "Name: Mention Count, dtype: float64"
      ]
     },
     "execution_count": 15,
     "metadata": {},
     "output_type": "execute_result"
    }
   ],
   "source": [
    "non_bot_mention_stats = non_bot_data['Mention Count'].describe()\n",
    "non_bot_mention_stats"
   ]
  },
  {
   "cell_type": "code",
   "execution_count": 16,
   "metadata": {},
   "outputs": [
    {
     "data": {
      "text/html": [
       "<div>\n",
       "<style scoped>\n",
       "    .dataframe tbody tr th:only-of-type {\n",
       "        vertical-align: middle;\n",
       "    }\n",
       "\n",
       "    .dataframe tbody tr th {\n",
       "        vertical-align: top;\n",
       "    }\n",
       "\n",
       "    .dataframe thead th {\n",
       "        text-align: right;\n",
       "    }\n",
       "</style>\n",
       "<table border=\"1\" class=\"dataframe\">\n",
       "  <thead>\n",
       "    <tr style=\"text-align: right;\">\n",
       "      <th></th>\n",
       "      <th>User ID</th>\n",
       "      <th>Username</th>\n",
       "      <th>Tweet</th>\n",
       "      <th>Retweet Count</th>\n",
       "      <th>Mention Count</th>\n",
       "      <th>Follower Count</th>\n",
       "      <th>Verified</th>\n",
       "      <th>Bot Label</th>\n",
       "      <th>Location</th>\n",
       "      <th>Created At</th>\n",
       "      <th>Hashtags</th>\n",
       "    </tr>\n",
       "  </thead>\n",
       "  <tbody>\n",
       "    <tr>\n",
       "      <th>0</th>\n",
       "      <td>132131</td>\n",
       "      <td>flong</td>\n",
       "      <td>Station activity person against natural majori...</td>\n",
       "      <td>85</td>\n",
       "      <td>1</td>\n",
       "      <td>2353</td>\n",
       "      <td>0</td>\n",
       "      <td>1</td>\n",
       "      <td>Adkinston</td>\n",
       "      <td>2020-05-11 15:29:00</td>\n",
       "      <td>No Hashtag</td>\n",
       "    </tr>\n",
       "    <tr>\n",
       "      <th>1</th>\n",
       "      <td>289683</td>\n",
       "      <td>hinesstephanie</td>\n",
       "      <td>Authority research natural life material staff...</td>\n",
       "      <td>55</td>\n",
       "      <td>5</td>\n",
       "      <td>9617</td>\n",
       "      <td>1</td>\n",
       "      <td>0</td>\n",
       "      <td>Sanderston</td>\n",
       "      <td>2022-11-26 05:18:00</td>\n",
       "      <td>both live</td>\n",
       "    </tr>\n",
       "    <tr>\n",
       "      <th>2</th>\n",
       "      <td>779715</td>\n",
       "      <td>roberttran</td>\n",
       "      <td>Manage whose quickly especially foot none to g...</td>\n",
       "      <td>6</td>\n",
       "      <td>2</td>\n",
       "      <td>4363</td>\n",
       "      <td>1</td>\n",
       "      <td>0</td>\n",
       "      <td>Harrisonfurt</td>\n",
       "      <td>2022-08-08 03:16:00</td>\n",
       "      <td>phone ahead</td>\n",
       "    </tr>\n",
       "    <tr>\n",
       "      <th>3</th>\n",
       "      <td>696168</td>\n",
       "      <td>pmason</td>\n",
       "      <td>Just cover eight opportunity strong policy which.</td>\n",
       "      <td>54</td>\n",
       "      <td>5</td>\n",
       "      <td>2242</td>\n",
       "      <td>1</td>\n",
       "      <td>1</td>\n",
       "      <td>Martinezberg</td>\n",
       "      <td>2021-08-14 22:27:00</td>\n",
       "      <td>ever quickly new I</td>\n",
       "    </tr>\n",
       "    <tr>\n",
       "      <th>4</th>\n",
       "      <td>704441</td>\n",
       "      <td>noah87</td>\n",
       "      <td>Animal sign six data good or.</td>\n",
       "      <td>26</td>\n",
       "      <td>3</td>\n",
       "      <td>8438</td>\n",
       "      <td>0</td>\n",
       "      <td>1</td>\n",
       "      <td>Camachoville</td>\n",
       "      <td>2020-04-13 21:24:00</td>\n",
       "      <td>foreign mention</td>\n",
       "    </tr>\n",
       "    <tr>\n",
       "      <th>...</th>\n",
       "      <td>...</td>\n",
       "      <td>...</td>\n",
       "      <td>...</td>\n",
       "      <td>...</td>\n",
       "      <td>...</td>\n",
       "      <td>...</td>\n",
       "      <td>...</td>\n",
       "      <td>...</td>\n",
       "      <td>...</td>\n",
       "      <td>...</td>\n",
       "      <td>...</td>\n",
       "    </tr>\n",
       "    <tr>\n",
       "      <th>49995</th>\n",
       "      <td>491196</td>\n",
       "      <td>uberg</td>\n",
       "      <td>Want but put card direction know miss former h...</td>\n",
       "      <td>64</td>\n",
       "      <td>0</td>\n",
       "      <td>9911</td>\n",
       "      <td>1</td>\n",
       "      <td>1</td>\n",
       "      <td>Lake Kimberlyburgh</td>\n",
       "      <td>2023-04-20 11:06:00</td>\n",
       "      <td>teach quality ten education any</td>\n",
       "    </tr>\n",
       "    <tr>\n",
       "      <th>49996</th>\n",
       "      <td>739297</td>\n",
       "      <td>jessicamunoz</td>\n",
       "      <td>Provide whole maybe agree church respond most ...</td>\n",
       "      <td>18</td>\n",
       "      <td>5</td>\n",
       "      <td>9900</td>\n",
       "      <td>0</td>\n",
       "      <td>1</td>\n",
       "      <td>Greenbury</td>\n",
       "      <td>2022-10-18 03:57:00</td>\n",
       "      <td>add walk among believe</td>\n",
       "    </tr>\n",
       "    <tr>\n",
       "      <th>49997</th>\n",
       "      <td>674475</td>\n",
       "      <td>lynncunningham</td>\n",
       "      <td>Bring different everyone international capital...</td>\n",
       "      <td>43</td>\n",
       "      <td>3</td>\n",
       "      <td>6313</td>\n",
       "      <td>1</td>\n",
       "      <td>1</td>\n",
       "      <td>Deborahfort</td>\n",
       "      <td>2020-07-08 03:54:00</td>\n",
       "      <td>onto admit artist first</td>\n",
       "    </tr>\n",
       "    <tr>\n",
       "      <th>49998</th>\n",
       "      <td>167081</td>\n",
       "      <td>richardthompson</td>\n",
       "      <td>Than about single generation itself seek sell ...</td>\n",
       "      <td>45</td>\n",
       "      <td>1</td>\n",
       "      <td>6343</td>\n",
       "      <td>0</td>\n",
       "      <td>0</td>\n",
       "      <td>Stephenside</td>\n",
       "      <td>2022-03-22 12:13:00</td>\n",
       "      <td>star</td>\n",
       "    </tr>\n",
       "    <tr>\n",
       "      <th>49999</th>\n",
       "      <td>311204</td>\n",
       "      <td>daniel29</td>\n",
       "      <td>Here morning class various room human true bec...</td>\n",
       "      <td>91</td>\n",
       "      <td>4</td>\n",
       "      <td>4006</td>\n",
       "      <td>0</td>\n",
       "      <td>0</td>\n",
       "      <td>Novakberg</td>\n",
       "      <td>2022-12-03 06:11:00</td>\n",
       "      <td>home</td>\n",
       "    </tr>\n",
       "  </tbody>\n",
       "</table>\n",
       "<p>50000 rows × 11 columns</p>\n",
       "</div>"
      ],
      "text/plain": [
       "       User ID         Username  \\\n",
       "0       132131            flong   \n",
       "1       289683   hinesstephanie   \n",
       "2       779715       roberttran   \n",
       "3       696168           pmason   \n",
       "4       704441           noah87   \n",
       "...        ...              ...   \n",
       "49995   491196            uberg   \n",
       "49996   739297     jessicamunoz   \n",
       "49997   674475   lynncunningham   \n",
       "49998   167081  richardthompson   \n",
       "49999   311204         daniel29   \n",
       "\n",
       "                                                   Tweet  Retweet Count  \\\n",
       "0      Station activity person against natural majori...             85   \n",
       "1      Authority research natural life material staff...             55   \n",
       "2      Manage whose quickly especially foot none to g...              6   \n",
       "3      Just cover eight opportunity strong policy which.             54   \n",
       "4                          Animal sign six data good or.             26   \n",
       "...                                                  ...            ...   \n",
       "49995  Want but put card direction know miss former h...             64   \n",
       "49996  Provide whole maybe agree church respond most ...             18   \n",
       "49997  Bring different everyone international capital...             43   \n",
       "49998  Than about single generation itself seek sell ...             45   \n",
       "49999  Here morning class various room human true bec...             91   \n",
       "\n",
       "       Mention Count  Follower Count  Verified  Bot Label            Location  \\\n",
       "0                  1            2353         0          1           Adkinston   \n",
       "1                  5            9617         1          0          Sanderston   \n",
       "2                  2            4363         1          0        Harrisonfurt   \n",
       "3                  5            2242         1          1        Martinezberg   \n",
       "4                  3            8438         0          1        Camachoville   \n",
       "...              ...             ...       ...        ...                 ...   \n",
       "49995              0            9911         1          1  Lake Kimberlyburgh   \n",
       "49996              5            9900         0          1           Greenbury   \n",
       "49997              3            6313         1          1         Deborahfort   \n",
       "49998              1            6343         0          0         Stephenside   \n",
       "49999              4            4006         0          0           Novakberg   \n",
       "\n",
       "               Created At                         Hashtags  \n",
       "0     2020-05-11 15:29:00                       No Hashtag  \n",
       "1     2022-11-26 05:18:00                        both live  \n",
       "2     2022-08-08 03:16:00                      phone ahead  \n",
       "3     2021-08-14 22:27:00               ever quickly new I  \n",
       "4     2020-04-13 21:24:00                  foreign mention  \n",
       "...                   ...                              ...  \n",
       "49995 2023-04-20 11:06:00  teach quality ten education any  \n",
       "49996 2022-10-18 03:57:00           add walk among believe  \n",
       "49997 2020-07-08 03:54:00          onto admit artist first  \n",
       "49998 2022-03-22 12:13:00                             star  \n",
       "49999 2022-12-03 06:11:00                             home  \n",
       "\n",
       "[50000 rows x 11 columns]"
      ]
     },
     "execution_count": 16,
     "metadata": {},
     "output_type": "execute_result"
    }
   ],
   "source": [
    "#label encoding of boolean data\n",
    "label_encoder=LabelEncoder()\n",
    "df['Verified']=label_encoder.fit_transform(df['Verified'])\n",
    "df"
   ]
  },
  {
   "cell_type": "code",
   "execution_count": 17,
   "metadata": {},
   "outputs": [
    {
     "name": "stdout",
     "output_type": "stream",
     "text": [
      "<class 'pandas.core.frame.DataFrame'>\n",
      "RangeIndex: 50000 entries, 0 to 49999\n",
      "Data columns (total 11 columns):\n",
      " #   Column          Non-Null Count  Dtype         \n",
      "---  ------          --------------  -----         \n",
      " 0   User ID         50000 non-null  int64         \n",
      " 1   Username        50000 non-null  object        \n",
      " 2   Tweet           50000 non-null  object        \n",
      " 3   Retweet Count   50000 non-null  int64         \n",
      " 4   Mention Count   50000 non-null  int64         \n",
      " 5   Follower Count  50000 non-null  int64         \n",
      " 6   Verified        50000 non-null  int64         \n",
      " 7   Bot Label       50000 non-null  int64         \n",
      " 8   Location        50000 non-null  object        \n",
      " 9   Created At      50000 non-null  datetime64[ns]\n",
      " 10  Hashtags        50000 non-null  object        \n",
      "dtypes: datetime64[ns](1), int64(6), object(4)\n",
      "memory usage: 4.2+ MB\n"
     ]
    }
   ],
   "source": [
    "df.info()"
   ]
  },
  {
   "cell_type": "code",
   "execution_count": 18,
   "metadata": {},
   "outputs": [],
   "source": [
    "# Combine all text columns into a single Series\n",
    "text_data = df['Tweet'] + ' ' + df['Username']  #+ ' ' + df['Hashtags']+' '+df['Location']\n",
    "\n",
    "# Text vectorization using TF-IDF (sparse representation)\n",
    "vectorizer = TfidfVectorizer()\n",
    "text_sparse = vectorizer.fit_transform(text_data)\n",
    "text_sparse = text_sparse.astype('float64')"
   ]
  },
  {
   "cell_type": "code",
   "execution_count": 19,
   "metadata": {},
   "outputs": [
    {
     "name": "stdout",
     "output_type": "stream",
     "text": [
      "  (0, 11858)\t0.46481328154873097\n",
      "  (0, 24073)\t0.25355889816889193\n",
      "  (0, 34453)\t0.2548062005793583\n",
      "  (0, 11495)\t0.2591631402114371\n",
      "  (0, 34454)\t0.25986428901276315\n",
      "  (0, 11669)\t0.25721738720798487\n",
      "  (0, 27882)\t0.2530346272292299\n",
      "  (0, 23571)\t0.2559032100500245\n",
      "  (0, 27273)\t0.2545360295186273\n",
      "  (0, 367)\t0.2553514009893523\n",
      "  (0, 29399)\t0.2548062005793583\n",
      "  (0, 171)\t0.2548062005793583\n",
      "  (0, 35014)\t0.25400045051628134\n",
      "  (1, 14818)\t0.5319139828680403\n",
      "  (1, 2513)\t0.27194443790651635\n",
      "  (1, 29984)\t0.2653535175406968\n",
      "  (1, 7338)\t0.26824604325879187\n",
      "  (1, 30679)\t0.2655349424182583\n",
      "  (1, 34968)\t0.2698103676280364\n",
      "  (1, 24473)\t0.2656259137071012\n",
      "  (1, 22582)\t0.2673880968407885\n",
      "  (1, 31084)\t0.2697110832769586\n",
      "  (1, 2582)\t0.26682456892609696\n",
      "  (1, 27273)\t0.26729371300388916\n",
      "  (2, 31920)\t0.5303089121758462\n",
      "  :\t:\n",
      "  (49997, 5286)\t0.3028287451234789\n",
      "  (49997, 4443)\t0.3029374431359621\n",
      "  (49998, 31424)\t0.530438550394934\n",
      "  (49998, 15094)\t0.2680810065220719\n",
      "  (49998, 33757)\t0.26946006780870024\n",
      "  (49998, 34440)\t0.26837317982310127\n",
      "  (49998, 12788)\t0.26674071920795184\n",
      "  (49998, 14587)\t0.2684709702048728\n",
      "  (49998, 115)\t0.26589858710468983\n",
      "  (49998, 35485)\t0.2757545479993044\n",
      "  (49998, 36372)\t0.2650710732712591\n",
      "  (49998, 15815)\t0.26674071920795184\n",
      "  (49998, 33763)\t0.265991426071513\n",
      "  (49999, 8202)\t0.5121897276207276\n",
      "  (49999, 33769)\t0.2588581422081758\n",
      "  (49999, 15335)\t0.2524775447719986\n",
      "  (49999, 26736)\t0.2582990337859638\n",
      "  (49999, 38222)\t0.2599011520929883\n",
      "  (49999, 23194)\t0.2579300322574208\n",
      "  (49999, 32317)\t0.25951913584087066\n",
      "  (49999, 6987)\t0.26146173185386445\n",
      "  (49999, 14589)\t0.2559517605156263\n",
      "  (49999, 37571)\t0.261860285808402\n",
      "  (49999, 3074)\t0.2602863651709824\n",
      "  (49999, 2513)\t0.261860285808402\n"
     ]
    }
   ],
   "source": [
    "print(text_sparse)"
   ]
  },
  {
   "cell_type": "code",
   "execution_count": 20,
   "metadata": {},
   "outputs": [],
   "source": [
    "# Combine text features with additional features\n",
    "additional_features = df[[ 'Verified','Follower Count','Created At']]"
   ]
  },
  {
   "cell_type": "code",
   "execution_count": 21,
   "metadata": {},
   "outputs": [
    {
     "name": "stderr",
     "output_type": "stream",
     "text": [
      "C:\\Users\\Acer\\AppData\\Local\\Temp\\ipykernel_16576\\1122172985.py:1: SettingWithCopyWarning: \n",
      "A value is trying to be set on a copy of a slice from a DataFrame.\n",
      "Try using .loc[row_indexer,col_indexer] = value instead\n",
      "\n",
      "See the caveats in the documentation: https://pandas.pydata.org/pandas-docs/stable/user_guide/indexing.html#returning-a-view-versus-a-copy\n",
      "  additional_features['Created At'] = additional_features['Created At'].astype(np.int64) # Convert to Unix timestamp\n"
     ]
    }
   ],
   "source": [
    "additional_features['Created At'] = additional_features['Created At'].astype(np.int64) # Convert to Unix timestamp\n",
    "additional_features = additional_features.astype('float64')  # Convert to float64"
   ]
  },
  {
   "cell_type": "code",
   "execution_count": 22,
   "metadata": {},
   "outputs": [],
   "source": [
    "combined_sparse = hstack((text_sparse, additional_features))"
   ]
  },
  {
   "cell_type": "code",
   "execution_count": 23,
   "metadata": {},
   "outputs": [],
   "source": [
    "rfc = RandomForestClassifier()\n",
    "X_train, X_test, y_train, y_test = train_test_split(combined_sparse, df['Bot Label'], test_size=0.2, random_state=2)"
   ]
  },
  {
   "cell_type": "code",
   "execution_count": 24,
   "metadata": {},
   "outputs": [],
   "source": [
    "forest_params = [{'max_depth': list(range(10, 15)),\n",
    "                'max_features': list(range(0,14)),\n",
    "                \"min_samples_leaf\":range(1,15,1),\n",
    "                \"min_samples_split\":range(2,10,1) }]\n",
    "\n",
    "clf = GridSearchCV(rfc, forest_params, cv = 3, scoring='accuracy')\n",
    "\n",
    "clf.fit(X_train, y_train)"
   ]
  },
  {
   "cell_type": "code",
   "execution_count": 25,
   "metadata": {},
   "outputs": [],
   "source": [
    "# clf.best_params_"
   ]
  },
  {
   "cell_type": "code",
   "execution_count": 26,
   "metadata": {},
   "outputs": [],
   "source": [
    "Bernoulli_cf = BernoulliNB()"
   ]
  },
  {
   "cell_type": "code",
   "execution_count": 27,
   "metadata": {},
   "outputs": [
    {
     "data": {
      "text/html": [
       "<style>#sk-container-id-1 {color: black;}#sk-container-id-1 pre{padding: 0;}#sk-container-id-1 div.sk-toggleable {background-color: white;}#sk-container-id-1 label.sk-toggleable__label {cursor: pointer;display: block;width: 100%;margin-bottom: 0;padding: 0.3em;box-sizing: border-box;text-align: center;}#sk-container-id-1 label.sk-toggleable__label-arrow:before {content: \"▸\";float: left;margin-right: 0.25em;color: #696969;}#sk-container-id-1 label.sk-toggleable__label-arrow:hover:before {color: black;}#sk-container-id-1 div.sk-estimator:hover label.sk-toggleable__label-arrow:before {color: black;}#sk-container-id-1 div.sk-toggleable__content {max-height: 0;max-width: 0;overflow: hidden;text-align: left;background-color: #f0f8ff;}#sk-container-id-1 div.sk-toggleable__content pre {margin: 0.2em;color: black;border-radius: 0.25em;background-color: #f0f8ff;}#sk-container-id-1 input.sk-toggleable__control:checked~div.sk-toggleable__content {max-height: 200px;max-width: 100%;overflow: auto;}#sk-container-id-1 input.sk-toggleable__control:checked~label.sk-toggleable__label-arrow:before {content: \"▾\";}#sk-container-id-1 div.sk-estimator input.sk-toggleable__control:checked~label.sk-toggleable__label {background-color: #d4ebff;}#sk-container-id-1 div.sk-label input.sk-toggleable__control:checked~label.sk-toggleable__label {background-color: #d4ebff;}#sk-container-id-1 input.sk-hidden--visually {border: 0;clip: rect(1px 1px 1px 1px);clip: rect(1px, 1px, 1px, 1px);height: 1px;margin: -1px;overflow: hidden;padding: 0;position: absolute;width: 1px;}#sk-container-id-1 div.sk-estimator {font-family: monospace;background-color: #f0f8ff;border: 1px dotted black;border-radius: 0.25em;box-sizing: border-box;margin-bottom: 0.5em;}#sk-container-id-1 div.sk-estimator:hover {background-color: #d4ebff;}#sk-container-id-1 div.sk-parallel-item::after {content: \"\";width: 100%;border-bottom: 1px solid gray;flex-grow: 1;}#sk-container-id-1 div.sk-label:hover label.sk-toggleable__label {background-color: #d4ebff;}#sk-container-id-1 div.sk-serial::before {content: \"\";position: absolute;border-left: 1px solid gray;box-sizing: border-box;top: 0;bottom: 0;left: 50%;z-index: 0;}#sk-container-id-1 div.sk-serial {display: flex;flex-direction: column;align-items: center;background-color: white;padding-right: 0.2em;padding-left: 0.2em;position: relative;}#sk-container-id-1 div.sk-item {position: relative;z-index: 1;}#sk-container-id-1 div.sk-parallel {display: flex;align-items: stretch;justify-content: center;background-color: white;position: relative;}#sk-container-id-1 div.sk-item::before, #sk-container-id-1 div.sk-parallel-item::before {content: \"\";position: absolute;border-left: 1px solid gray;box-sizing: border-box;top: 0;bottom: 0;left: 50%;z-index: -1;}#sk-container-id-1 div.sk-parallel-item {display: flex;flex-direction: column;z-index: 1;position: relative;background-color: white;}#sk-container-id-1 div.sk-parallel-item:first-child::after {align-self: flex-end;width: 50%;}#sk-container-id-1 div.sk-parallel-item:last-child::after {align-self: flex-start;width: 50%;}#sk-container-id-1 div.sk-parallel-item:only-child::after {width: 0;}#sk-container-id-1 div.sk-dashed-wrapped {border: 1px dashed gray;margin: 0 0.4em 0.5em 0.4em;box-sizing: border-box;padding-bottom: 0.4em;background-color: white;}#sk-container-id-1 div.sk-label label {font-family: monospace;font-weight: bold;display: inline-block;line-height: 1.2em;}#sk-container-id-1 div.sk-label-container {text-align: center;}#sk-container-id-1 div.sk-container {/* jupyter's `normalize.less` sets `[hidden] { display: none; }` but bootstrap.min.css set `[hidden] { display: none !important; }` so we also need the `!important` here to be able to override the default hidden behavior on the sphinx rendered scikit-learn.org. See: https://github.com/scikit-learn/scikit-learn/issues/21755 */display: inline-block !important;position: relative;}#sk-container-id-1 div.sk-text-repr-fallback {display: none;}</style><div id=\"sk-container-id-1\" class=\"sk-top-container\"><div class=\"sk-text-repr-fallback\"><pre>BernoulliNB()</pre><b>In a Jupyter environment, please rerun this cell to show the HTML representation or trust the notebook. <br />On GitHub, the HTML representation is unable to render, please try loading this page with nbviewer.org.</b></div><div class=\"sk-container\" hidden><div class=\"sk-item\"><div class=\"sk-estimator sk-toggleable\"><input class=\"sk-toggleable__control sk-hidden--visually\" id=\"sk-estimator-id-1\" type=\"checkbox\" checked><label for=\"sk-estimator-id-1\" class=\"sk-toggleable__label sk-toggleable__label-arrow\">BernoulliNB</label><div class=\"sk-toggleable__content\"><pre>BernoulliNB()</pre></div></div></div></div></div>"
      ],
      "text/plain": [
       "BernoulliNB()"
      ]
     },
     "execution_count": 27,
     "metadata": {},
     "output_type": "execute_result"
    }
   ],
   "source": [
    "Bernoulli_cf.fit(X_train,y_train)"
   ]
  },
  {
   "cell_type": "code",
   "execution_count": 28,
   "metadata": {},
   "outputs": [
    {
     "name": "stdout",
     "output_type": "stream",
     "text": [
      "Traning accuracy of Bernoulli naive bayes :  0.925275\n"
     ]
    }
   ],
   "source": [
    "Bernoulli_train_pred = Bernoulli_cf.predict(X_train)\n",
    "print(\"Traning accuracy of Bernoulli naive bayes : \",accuracy_score(y_train,Bernoulli_train_pred))"
   ]
  },
  {
   "cell_type": "code",
   "execution_count": 29,
   "metadata": {},
   "outputs": [
    {
     "name": "stdout",
     "output_type": "stream",
     "text": [
      "Testing accuracy of Bernoulli naive bayes :  0.4903\n"
     ]
    }
   ],
   "source": [
    "Bernoulli_pred = Bernoulli_cf.predict(X_test)\n",
    "print(\"Testing accuracy of Bernoulli naive bayes : \",accuracy_score(y_test,Bernoulli_pred))"
   ]
  },
  {
   "cell_type": "code",
   "execution_count": 30,
   "metadata": {},
   "outputs": [
    {
     "data": {
      "text/html": [
       "<style>#sk-container-id-2 {color: black;}#sk-container-id-2 pre{padding: 0;}#sk-container-id-2 div.sk-toggleable {background-color: white;}#sk-container-id-2 label.sk-toggleable__label {cursor: pointer;display: block;width: 100%;margin-bottom: 0;padding: 0.3em;box-sizing: border-box;text-align: center;}#sk-container-id-2 label.sk-toggleable__label-arrow:before {content: \"▸\";float: left;margin-right: 0.25em;color: #696969;}#sk-container-id-2 label.sk-toggleable__label-arrow:hover:before {color: black;}#sk-container-id-2 div.sk-estimator:hover label.sk-toggleable__label-arrow:before {color: black;}#sk-container-id-2 div.sk-toggleable__content {max-height: 0;max-width: 0;overflow: hidden;text-align: left;background-color: #f0f8ff;}#sk-container-id-2 div.sk-toggleable__content pre {margin: 0.2em;color: black;border-radius: 0.25em;background-color: #f0f8ff;}#sk-container-id-2 input.sk-toggleable__control:checked~div.sk-toggleable__content {max-height: 200px;max-width: 100%;overflow: auto;}#sk-container-id-2 input.sk-toggleable__control:checked~label.sk-toggleable__label-arrow:before {content: \"▾\";}#sk-container-id-2 div.sk-estimator input.sk-toggleable__control:checked~label.sk-toggleable__label {background-color: #d4ebff;}#sk-container-id-2 div.sk-label input.sk-toggleable__control:checked~label.sk-toggleable__label {background-color: #d4ebff;}#sk-container-id-2 input.sk-hidden--visually {border: 0;clip: rect(1px 1px 1px 1px);clip: rect(1px, 1px, 1px, 1px);height: 1px;margin: -1px;overflow: hidden;padding: 0;position: absolute;width: 1px;}#sk-container-id-2 div.sk-estimator {font-family: monospace;background-color: #f0f8ff;border: 1px dotted black;border-radius: 0.25em;box-sizing: border-box;margin-bottom: 0.5em;}#sk-container-id-2 div.sk-estimator:hover {background-color: #d4ebff;}#sk-container-id-2 div.sk-parallel-item::after {content: \"\";width: 100%;border-bottom: 1px solid gray;flex-grow: 1;}#sk-container-id-2 div.sk-label:hover label.sk-toggleable__label {background-color: #d4ebff;}#sk-container-id-2 div.sk-serial::before {content: \"\";position: absolute;border-left: 1px solid gray;box-sizing: border-box;top: 0;bottom: 0;left: 50%;z-index: 0;}#sk-container-id-2 div.sk-serial {display: flex;flex-direction: column;align-items: center;background-color: white;padding-right: 0.2em;padding-left: 0.2em;position: relative;}#sk-container-id-2 div.sk-item {position: relative;z-index: 1;}#sk-container-id-2 div.sk-parallel {display: flex;align-items: stretch;justify-content: center;background-color: white;position: relative;}#sk-container-id-2 div.sk-item::before, #sk-container-id-2 div.sk-parallel-item::before {content: \"\";position: absolute;border-left: 1px solid gray;box-sizing: border-box;top: 0;bottom: 0;left: 50%;z-index: -1;}#sk-container-id-2 div.sk-parallel-item {display: flex;flex-direction: column;z-index: 1;position: relative;background-color: white;}#sk-container-id-2 div.sk-parallel-item:first-child::after {align-self: flex-end;width: 50%;}#sk-container-id-2 div.sk-parallel-item:last-child::after {align-self: flex-start;width: 50%;}#sk-container-id-2 div.sk-parallel-item:only-child::after {width: 0;}#sk-container-id-2 div.sk-dashed-wrapped {border: 1px dashed gray;margin: 0 0.4em 0.5em 0.4em;box-sizing: border-box;padding-bottom: 0.4em;background-color: white;}#sk-container-id-2 div.sk-label label {font-family: monospace;font-weight: bold;display: inline-block;line-height: 1.2em;}#sk-container-id-2 div.sk-label-container {text-align: center;}#sk-container-id-2 div.sk-container {/* jupyter's `normalize.less` sets `[hidden] { display: none; }` but bootstrap.min.css set `[hidden] { display: none !important; }` so we also need the `!important` here to be able to override the default hidden behavior on the sphinx rendered scikit-learn.org. See: https://github.com/scikit-learn/scikit-learn/issues/21755 */display: inline-block !important;position: relative;}#sk-container-id-2 div.sk-text-repr-fallback {display: none;}</style><div id=\"sk-container-id-2\" class=\"sk-top-container\"><div class=\"sk-text-repr-fallback\"><pre>RandomForestClassifier(max_depth=14, max_features=3)</pre><b>In a Jupyter environment, please rerun this cell to show the HTML representation or trust the notebook. <br />On GitHub, the HTML representation is unable to render, please try loading this page with nbviewer.org.</b></div><div class=\"sk-container\" hidden><div class=\"sk-item\"><div class=\"sk-estimator sk-toggleable\"><input class=\"sk-toggleable__control sk-hidden--visually\" id=\"sk-estimator-id-2\" type=\"checkbox\" checked><label for=\"sk-estimator-id-2\" class=\"sk-toggleable__label sk-toggleable__label-arrow\">RandomForestClassifier</label><div class=\"sk-toggleable__content\"><pre>RandomForestClassifier(max_depth=14, max_features=3)</pre></div></div></div></div></div>"
      ],
      "text/plain": [
       "RandomForestClassifier(max_depth=14, max_features=3)"
      ]
     },
     "execution_count": 30,
     "metadata": {},
     "output_type": "execute_result"
    }
   ],
   "source": [
    "# Split the data into training and testing sets\n",
    "X_train, X_test, y_train, y_test = train_test_split(combined_sparse, df['Bot Label'], test_size=0.2, random_state=122)\n",
    "\n",
    "# Create an instance of the Random Forest classifier\n",
    "rf_classifier = RandomForestClassifier(max_depth=14, max_features=3)\n",
    "\n",
    "# Train the Random Forest classifier\n",
    "rf_classifier.fit(X_train, y_train)"
   ]
  },
  {
   "cell_type": "code",
   "execution_count": 31,
   "metadata": {},
   "outputs": [
    {
     "data": {
      "text/plain": [
       "0.536375"
      ]
     },
     "execution_count": 31,
     "metadata": {},
     "output_type": "execute_result"
    }
   ],
   "source": [
    "rf_train_predict = rf_classifier.predict(X_train)\n",
    "accuracy_score(y_train, rf_train_predict)"
   ]
  },
  {
   "cell_type": "code",
   "execution_count": 32,
   "metadata": {},
   "outputs": [
    {
     "name": "stdout",
     "output_type": "stream",
     "text": [
      "Accuracy: 0.5049\n",
      "Classification Report:\n",
      "              precision    recall  f1-score   support\n",
      "\n",
      "           0       0.51      0.12      0.20      4979\n",
      "           1       0.50      0.88      0.64      5021\n",
      "\n",
      "    accuracy                           0.50     10000\n",
      "   macro avg       0.51      0.50      0.42     10000\n",
      "weighted avg       0.51      0.50      0.42     10000\n",
      "\n"
     ]
    }
   ],
   "source": [
    "# Make predictions on the testing data\n",
    "y_pred = rf_classifier.predict(X_test)\n",
    "\n",
    "# Evaluate the model\n",
    "\n",
    "accuracy = accuracy_score(y_test, y_pred)\n",
    "report = classification_report(y_test, y_pred)\n",
    "\n",
    "print(f\"Accuracy: {accuracy}\")\n",
    "print(f\"Classification Report:\\n{report}\")"
   ]
  },
  {
   "cell_type": "code",
   "execution_count": 33,
   "metadata": {},
   "outputs": [
    {
     "name": "stderr",
     "output_type": "stream",
     "text": [
      "C:\\Users\\Acer\\AppData\\Local\\Temp\\ipykernel_16576\\3559399730.py:37: UserWarning: Parsing dates in %d-%m-%Y  %H:%M:%S format when dayfirst=False (the default) was specified. Pass `dayfirst=True` or specify a format to silence this warning.\n",
      "  new_additional_features['Created At'] = pd.to_datetime(new_additional_features['Created At'])\n",
      "C:\\Users\\Acer\\AppData\\Local\\Temp\\ipykernel_16576\\3559399730.py:37: SettingWithCopyWarning: \n",
      "A value is trying to be set on a copy of a slice from a DataFrame.\n",
      "Try using .loc[row_indexer,col_indexer] = value instead\n",
      "\n",
      "See the caveats in the documentation: https://pandas.pydata.org/pandas-docs/stable/user_guide/indexing.html#returning-a-view-versus-a-copy\n",
      "  new_additional_features['Created At'] = pd.to_datetime(new_additional_features['Created At'])\n",
      "C:\\Users\\Acer\\AppData\\Local\\Temp\\ipykernel_16576\\3559399730.py:38: SettingWithCopyWarning: \n",
      "A value is trying to be set on a copy of a slice from a DataFrame.\n",
      "Try using .loc[row_indexer,col_indexer] = value instead\n",
      "\n",
      "See the caveats in the documentation: https://pandas.pydata.org/pandas-docs/stable/user_guide/indexing.html#returning-a-view-versus-a-copy\n",
      "  new_additional_features['Created At'] = new_additional_features['Created At'].apply(lambda x: int(datetime.timestamp(x)))\n",
      "C:\\Users\\Acer\\AppData\\Local\\Temp\\ipykernel_16576\\3559399730.py:42: SettingWithCopyWarning: \n",
      "A value is trying to be set on a copy of a slice from a DataFrame.\n",
      "Try using .loc[row_indexer,col_indexer] = value instead\n",
      "\n",
      "See the caveats in the documentation: https://pandas.pydata.org/pandas-docs/stable/user_guide/indexing.html#returning-a-view-versus-a-copy\n",
      "  new_additional_features['Created At'] = new_additional_features['Created At'].astype(int)  # Convert to Unix timestamp\n"
     ]
    }
   ],
   "source": [
    "new_data = pd.DataFrame({\n",
    "\n",
    "    'Tweet': ['Just cover eight opportunity strong policy which.'],\n",
    "\n",
    "    'Username': ['pmason'],\n",
    "\n",
    "    # 'Hashtags': ['neever quickly new Iw'],\n",
    "\n",
    "    # 'Retweet Count': [54],\n",
    "\n",
    "    'Verified': [1],\n",
    "\n",
    "    # 'Location' : ['Martinezberg'],\n",
    "\n",
    "    # 'Mention Count' : [5],\n",
    "\n",
    "    'Follower Count' : [2242],\n",
    "\n",
    "    'Created At' : ['14-08-2021  22:27:00']\n",
    "})\n",
    "\n",
    "# Concatenate text features\n",
    "\n",
    "new_text_data = new_data['Tweet'] + ' ' + new_data['Username'] #+ ' ' + new_data['Hashtags']+' '+new_data['Location']\n",
    "\n",
    "# Perform feature vectorization on new text features\n",
    "\n",
    "new_text_sparse = vectorizer.transform(new_text_data)\n",
    "\n",
    "\n",
    "# Combine new text features with additional features\n",
    "\n",
    "# new_additional_features = new_data[['Retweet Count', 'Verified','Mention Count','Follower Count','Created At']]\n",
    "new_additional_features = new_data[['Verified','Follower Count','Created At']]\n",
    "\n",
    "\n",
    "new_additional_features['Created At'] = pd.to_datetime(new_additional_features['Created At'])\n",
    "new_additional_features['Created At'] = new_additional_features['Created At'].apply(lambda x: int(datetime.timestamp(x)))\n",
    "\n",
    "\n",
    "# new_additional_features = new_additional_features.astype('float64')\n",
    "new_additional_features['Created At'] = new_additional_features['Created At'].astype(int)  # Convert to Unix timestamp\n",
    "new_additional_features = new_additional_features.astype('float64')\n",
    "\n",
    "\n",
    "new_combined_sparse = hstack((new_text_sparse, new_additional_features))\n",
    "\n",
    "# Predict labels for the new data\n",
    "new_predictions = rf_classifier.predict(new_combined_sparse)"
   ]
  },
  {
   "cell_type": "code",
   "execution_count": 34,
   "metadata": {},
   "outputs": [
    {
     "name": "stdout",
     "output_type": "stream",
     "text": [
      "Data point 1: Bot\n"
     ]
    }
   ],
   "source": [
    "# Print the predictions\n",
    "\n",
    "for i, prediction in enumerate(new_predictions):\n",
    "\n",
    "    if prediction == 1:\n",
    "\n",
    "        print(f\"Data point {i+1}: Bot\")\n",
    "\n",
    "    else:\n",
    "\n",
    "        print(f\"Data point {i+1}: Not Bot\")"
   ]
  },
  {
   "cell_type": "code",
   "execution_count": 39,
   "metadata": {},
   "outputs": [],
   "source": [
    "pickle.dump(rf_classifier,open('model.pkl','wb'))"
   ]
  }
 ],
 "metadata": {
  "kernelspec": {
   "display_name": "Python 3",
   "language": "python",
   "name": "python3"
  },
  "language_info": {
   "codemirror_mode": {
    "name": "ipython",
    "version": 3
   },
   "file_extension": ".py",
   "mimetype": "text/x-python",
   "name": "python",
   "nbconvert_exporter": "python",
   "pygments_lexer": "ipython3",
   "version": "3.11.6"
  }
 },
 "nbformat": 4,
 "nbformat_minor": 2
}
